{
 "cells": [
  {
   "cell_type": "code",
   "execution_count": 1,
   "id": "5aad22f9",
   "metadata": {},
   "outputs": [],
   "source": [
    "#The estimation of the MLE is based on the material from Quantecon"
   ]
  },
  {
   "cell_type": "code",
   "execution_count": 2,
   "id": "c12c22a8",
   "metadata": {},
   "outputs": [],
   "source": [
    "#First, we need the following imports"
   ]
  },
  {
   "cell_type": "code",
   "execution_count": 3,
   "id": "94d42f5b",
   "metadata": {},
   "outputs": [],
   "source": [
    "%matplotlib inline\n",
    "import matplotlib.pyplot as plt\n",
    "plt.rcParams[\"figure.figsize\"] = (11, 5)  #set default figure size\n",
    "import numpy as np\n",
    "from numpy import exp\n",
    "from scipy.special import factorial\n",
    "import pandas as pd\n",
    "from mpl_toolkits.mplot3d import Axes3D\n",
    "import statsmodels.api as sm\n",
    "from statsmodels.api import Poisson\n",
    "from scipy import stats\n",
    "from scipy.stats import norm\n",
    "from statsmodels.iolib.summary2 import summary_col"
   ]
  },
  {
   "cell_type": "code",
   "execution_count": 8,
   "id": "408d3008",
   "metadata": {},
   "outputs": [
    {
     "ename": "SyntaxError",
     "evalue": "invalid syntax (<ipython-input-8-6c4855eabb09>, line 4)",
     "output_type": "error",
     "traceback": [
      "\u001b[1;36m  File \u001b[1;32m\"<ipython-input-8-6c4855eabb09>\"\u001b[1;36m, line \u001b[1;32m4\u001b[0m\n\u001b[1;33m    $$ lnL(β|X,Y)=∑i=1n[yilnΦ(x′iβ)+(1−yi)ln(1−Φ(x′iβ))] $$\u001b[0m\n\u001b[1;37m    ^\u001b[0m\n\u001b[1;31mSyntaxError\u001b[0m\u001b[1;31m:\u001b[0m invalid syntax\n"
     ]
    }
   ],
   "source": [
    "\n"
   ]
  },
  {
   "cell_type": "code",
   "execution_count": 22,
   "id": "64e63ab5",
   "metadata": {},
   "outputs": [
    {
     "data": {
      "text/html": [
       "<p>\n",
       "Consider the probit model where the dependent variable ($Y$) is binary, and the independent variables are given by the vector $X$. \n",
       "In addition, assume that $Pr(Y=1|X)= Φ(X^T β)$ where $Φ$ is the CDF of the standard normal distribution. \n",
       "</p>\n",
       "\n",
       "<p>\n",
       "$$\n",
       "\\ln L(\\beta \\mid X, Y)=\\sum_{i=1}^n\\left[y_i \\ln \\Phi\\left(x_i^{\\prime} \\beta\\right)+\\left(1-y_i\\right) \\ln \\left(1-\\Phi\\left(x_i^{\\prime} \\beta\\right)\\right)\\right]\n",
       "$$\n",
       "</p>\n",
       "\n",
       "<p>\n",
       "The basic probit model takes a binary dependent variable, Y, and assumes that Pr(Y=1|X)=Φ(XTβ) where X is the matrix of independent variables, β is the vector of parameters to estimate, and Φ is the CDF of the standard normal distribution. We want to take the likelihood function L=PR(β|X,Y), and maximize it over β to get the most likely β paramaters given the data X,Y. We usually use the log of the likelihood function in practice, because it is simpler in both math and computation, and the maximum point is the same. The probit log likelihood is as follows:\n",
       "</p>\n",
       "\n",
       "%%latex\n",
       "\n",
       "$$\n",
       "\\ln L(\\beta \\mid X, Y)=\\sum_{i=1}^n\\left[y_i \\ln \\Phi\\left(x_i^{\\prime} \\beta\\right)+\\left(1-y_i\\right) \\ln \\left(1-\\Phi\\left(x_i^{\\prime} \\beta\\right)\\right)\\right]\n",
       "$$\n"
      ],
      "text/plain": [
       "<IPython.core.display.HTML object>"
      ]
     },
     "metadata": {},
     "output_type": "display_data"
    }
   ],
   "source": [
    "%%html\n",
    "<p>\n",
    "Consider the probit model where the dependent variable ($Y$) is binary, and the independent variables are given by the vector $X$. \n",
    "In addition, assume that $Pr(Y=1|X)= Φ(X^T β)$ where $Φ$ is the CDF of the standard normal distribution. \n",
    "</p>\n",
    "\n",
    "<p>\n",
    "The objective is to maximize the likelihood function over the parameters to find the Maximum Likelihood Estimator (MLE). \n",
    "To find the MLE estimator \n",
    "</p>\n",
    "\n",
    "<p>\n",
    "$$\n",
    "\\ln L(\\beta \\mid X, Y)=\\sum_{i=1}^n\\left[y_i \\ln \\Phi\\left(x_i^{\\prime} \\beta\\right)+\\left(1-y_i\\right) \\ln \\left(1-\\Phi\\left(x_i^{\\prime} \\beta\\right)\\right)\\right]\n",
    "$$\n",
    "</p>\n",
    "\n",
    "<p>\n",
    "The basic probit model takes a binary dependent variable, Y, and assumes that Pr(Y=1|X)=Φ(XTβ) where X is the matrix of independent variables, β is the vector of parameters to estimate, and Φ is the CDF of the standard normal distribution. We want to take the likelihood function L=PR(β|X,Y), and maximize it over β to get the most likely β paramaters given the data X,Y. We usually use the log of the likelihood function in practice, because it is simpler in both math and computation, and the maximum point is the same. The probit log likelihood is as follows:\n",
    "</p>\n",
    "\n",
    "%%latex\n",
    "\n",
    "$$\n",
    "\\ln L(\\beta \\mid X, Y)=\\sum_{i=1}^n\\left[y_i \\ln \\Phi\\left(x_i^{\\prime} \\beta\\right)+\\left(1-y_i\\right) \\ln \\left(1-\\Phi\\left(x_i^{\\prime} \\beta\\right)\\right)\\right]\n",
    "$$\n"
   ]
  },
  {
   "cell_type": "code",
   "execution_count": 13,
   "id": "b5a866ac",
   "metadata": {},
   "outputs": [
    {
     "data": {
      "text/html": [
       "<p>\n",
       "The basic probit model takes a binary dependent variable, Y, and assumes that Pr(Y=1|X)=Φ(XTβ) where X is the matrix of independent variables, β is the vector of parameters to estimate, and Φ is the CDF of the standard normal distribution. We want to take the likelihood function L=PR(β|X,Y), and maximize it over β to get the most likely β paramaters given the data X,Y. We usually use the log of the likelihood function in practice, because it is simpler in both math and computation, and the maximum point is the same. The probit log likelihood is as follows:\n",
       "</p>\n",
       "    \n"
      ],
      "text/plain": [
       "<IPython.core.display.HTML object>"
      ]
     },
     "metadata": {},
     "output_type": "display_data"
    }
   ],
   "source": []
  },
  {
   "cell_type": "code",
   "execution_count": null,
   "id": "f45de76c",
   "metadata": {},
   "outputs": [],
   "source": []
  }
 ],
 "metadata": {
  "kernelspec": {
   "display_name": "Python 3",
   "language": "python",
   "name": "python3"
  },
  "language_info": {
   "codemirror_mode": {
    "name": "ipython",
    "version": 3
   },
   "file_extension": ".py",
   "mimetype": "text/x-python",
   "name": "python",
   "nbconvert_exporter": "python",
   "pygments_lexer": "ipython3",
   "version": "3.8.8"
  }
 },
 "nbformat": 4,
 "nbformat_minor": 5
}
